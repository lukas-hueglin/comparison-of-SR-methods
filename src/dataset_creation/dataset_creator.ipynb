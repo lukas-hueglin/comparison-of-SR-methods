{
 "cells": [
  {
   "cell_type": "markdown",
   "metadata": {},
   "source": [
    "# Unsplash Dataset Creator\n",
    "\n",
    "![](https://drive.google.com/uc?export=view&id=1TR9ydn_Kw180cQzP-LDvT52VwtNyxgr6)\n",
    "\n",
    "This *Jupyter Notebook* creates a dataset containing locally (on a hard drive) stored images, downloaded from the official [Unsplash Dataset](https://unsplash.com/data). It can be used with the *Lite* and the *Full* version, but the official dataset has to be downloaded or requested separately."
   ]
  },
  {
   "cell_type": "markdown",
   "metadata": {},
   "source": [
    "Import `DatasetCreator` from `dataset_creation_helpers.py`."
   ]
  },
  {
   "cell_type": "code",
   "execution_count": 1,
   "metadata": {},
   "outputs": [],
   "source": [
    "from dataset_creation_helpers import DatasetCreator"
   ]
  },
  {
   "cell_type": "markdown",
   "metadata": {},
   "source": [
    "A new instance of `DatasetCreator` is created and the `photos.tsv000` file from the official [Unsplash Dataset](https://unsplash.com/data) are loaded.\n",
    "\n",
    ">| Parameter    | Description |\n",
    ">|--------------|-------------|\n",
    ">|path_in       | Path to the official [Unsplash Dataset](https://unsplash.com/data).\n",
    ">|path_out      | Indicates where the downloaded dataset should be stored.\n",
    ">|sizes         | List with the resolutions the images should be downloaded (All the images are squares).\n",
    ">|dataset_size  | Amount of images the user wants to use in a future project.\n",
    ">|download_Ratio| Ratio between the images, who are downloaded in `download_images()` and those who are just stored in `cache.csv`."
   ]
  },
  {
   "cell_type": "code",
   "execution_count": 2,
   "metadata": {},
   "outputs": [],
   "source": [
    "dataset_creator = DatasetCreator('D:\\\\UNSPLASH Dataset Lite', 'D:\\\\UNSPLASH Dataset', sizes = (1024, 512, 256, 128, 64, 32), dataset_size=25e3)\n",
    "dataset_creator.load_dataframe()"
   ]
  },
  {
   "cell_type": "markdown",
   "metadata": {},
   "source": [
    "As many *photo_image_urls* as specified in `dataset_size` are loaded(`search_images()`) and then downloaded(`download_images()`).\\\n",
    "<sup>*Note: The search_images() function might be updated, so that it is possible to narrow down the download with keywords.*<sup>"
   ]
  },
  {
   "cell_type": "code",
   "execution_count": null,
   "metadata": {},
   "outputs": [],
   "source": [
    "dataset_creator.search_images()\n",
    "dataset_creator.download_images()"
   ]
  },
  {
   "cell_type": "markdown",
   "metadata": {},
   "source": [
    "In `save_cache()` all the image URLs will be stored in `cache.csv`. Then with `set_infos()` the user can specify additional information which will be stored in a `README.md` file. This file with be created through the call of `make_README()`."
   ]
  },
  {
   "cell_type": "code",
   "execution_count": null,
   "metadata": {},
   "outputs": [],
   "source": [
    "dataset_creator.save_cache()\n",
    "\n",
    "dataset_creator.set_infos(dataset_type='Unsplash Dataset Lite', author_name='Lukas Hueglin')\n",
    "dataset_creator.make_README()"
   ]
  }
 ],
 "metadata": {
  "interpreter": {
   "hash": "9ce362fa0a37adc62a0966f019536f812efbc2b76b1df682efe9fd339081157c"
  },
  "kernelspec": {
   "display_name": "Python 3.10.3 ('venv': venv)",
   "language": "python",
   "name": "python3"
  },
  "language_info": {
   "codemirror_mode": {
    "name": "ipython",
    "version": 3
   },
   "file_extension": ".py",
   "mimetype": "text/x-python",
   "name": "python",
   "nbconvert_exporter": "python",
   "pygments_lexer": "ipython3",
   "version": "3.10.3"
  },
  "orig_nbformat": 4
 },
 "nbformat": 4,
 "nbformat_minor": 2
}
